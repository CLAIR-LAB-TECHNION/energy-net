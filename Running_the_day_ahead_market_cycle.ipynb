{
  "cells": [
    {
      "cell_type": "markdown",
      "metadata": {
        "id": "8bQUX82PsyZT"
      },
      "source": [
        "# Managing the Day-Ahead Market"
      ]
    },
    {
      "cell_type": "markdown",
      "metadata": {
        "id": "mq4TnArbnYjY"
      },
      "source": [
        "![electricity-market.svg](data:image/svg+xml;base64,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)"
      ]
    },
    {
      "cell_type": "markdown",
      "metadata": {
        "id": "4ryJbYwcuC0w"
      },
      "source": [
        "The objective of this tutorial is to demonstrate the process of running the day-ahead market. The setting we consider here includes two agents: the ISO, which manages the markets by setting the production plan and the sell and feed-in tariffs, and the PCS units (production, consumption, and storage units) that participate in the market."
      ]
    },
    {
      "cell_type": "markdown",
      "metadata": {
        "id": "82Ql77oWnEZf"
      },
      "source": [
        "## Decision-Operational Cycle:\n",
        "\n",
        "We are considering a decision horizon of 48 half-hour intervales.\n",
        "\n",
        "The input includes:\n",
        "- the predicted demand $\\hat{D}$ for each interval in the decision horizon\n",
        "- the production capabitiles and costs of the ISO (and its controlled units)\n",
        "- the production, storage and transmission bounds on each PCSUnit\n",
        "\n",
        "\n",
        "\n",
        "\n"
      ]
    },
    {
      "cell_type": "markdown",
      "metadata": {
        "id": "A5zPWIwNrV4G"
      },
      "source": [
        "The iterative process includes at every iteration (time 0):    \n",
        "- The ISO sets the Day-Ahead Program that sets the amount of electricity to produce at each interval.\n",
        "- The ISO sets the sell and feed-in tariffs per interval for the entire decision horizon.\n",
        "- The PCSUnits see the prices and decide how much power to store, sell/buy and consume. In practice, all these are reflected by one decision variable that considers storage."
      ]
    },
    {
      "cell_type": "markdown",
      "metadata": {
        "id": "woOL4FI6mhMz"
      },
      "source": [
        "## Assumptions:\n",
        "\n",
        "*   All decisions are made at time 0. This means that the policies are fixed at time 0 and while agent reazt in real-time by choosing their actions, there is no real-time adjacement of policies.  \n",
        "*   As a first step, we assum that the predication\n",
        "\n",
        "\n"
      ]
    },
    {
      "cell_type": "markdown",
      "metadata": {
        "id": "3K3CXu8KuMrB"
      },
      "source": [
        "# Setting Up the energy-net Environment"
      ]
    },
    {
      "cell_type": "code",
      "execution_count": null,
      "metadata": {
        "id": "wwQRPA0AkdQg"
      },
      "outputs": [],
      "source": [
        "!git clone https://github.com/CLAIR-LAB-TECHNION/energy-net.git\n",
        "\n",
        "%cd energy-net\n",
        "!pip install -e ."
      ]
    },
    {
      "cell_type": "code",
      "execution_count": null,
      "metadata": {},
      "outputs": [],
      "source": [
        "!python3 -m pip install ruamel.yaml\n",
        "!python3 -m pip install numpy==1.23.5\n",
        "!python3 -m pip install pyyaml\n",
        "!python3 -m pip install tensorboard\n",
        "!python3 -m pip install tqdm rich\n"
      ]
    },
    {
      "cell_type": "markdown",
      "metadata": {
        "id": "D6gAwM-28tE_"
      },
      "source": [
        "## load PCS players and paramaters \n"
      ]
    },
    {
      "cell_type": "code",
      "execution_count": null,
      "metadata": {},
      "outputs": [],
      "source": [
        "#load pcs players - add up after training on newtown "
      ]
    },
    {
      "cell_type": "code",
      "execution_count": 29,
      "metadata": {
        "id": "-shkAu2337Iq"
      },
      "outputs": [
        {
          "name": "stdout",
          "output_type": "stream",
          "text": [
            "Skipping editing of pcs_unit_config.yaml battery parameters.\n",
            "\n",
            "Please select a PCSs agent model:\n",
            "1: Variable prices in intervals\n",
            "2: Quadratic price based on demand\n",
            "3: Online variable price\n",
            "4: None\n",
            "Loaded PCSs: PCSs model loaded with config(s): [None]\n"
          ]
        }
      ],
      "source": [
        "from ruamel.yaml import YAML\n",
        "import os\n",
        "\n",
        "# ---------- Block: Edit pcs_unit_config.yaml Battery Parameters ----------\n",
        "\n",
        "edit_config = input(\"Do you want to edit the battery parameters in pcs_unit_config.yaml? (yes/no): \").strip().lower()\n",
        "\n",
        "if edit_config == \"yes\":\n",
        "    # Define the path to the YAML file; adjust if necessary.\n",
        "    config_path = os.path.join(\"energy-net\", \"configs\", \"/Users/matanlevi/energy-net/configs/pcs_unit_config.yaml\")\n",
        "    \n",
        "    if not os.path.exists(config_path):\n",
        "        print(\"Error: File not found:\", config_path)\n",
        "        print(\"Current working directory is:\", os.getcwd())\n",
        "    else:\n",
        "        yaml = YAML()\n",
        "        yaml.preserve_quotes = True  # Preserve quotes and formatting\n",
        "        with open(config_path, \"r\") as file:\n",
        "            config = yaml.load(file)\n",
        "        \n",
        "        battery_params = config.get(\"battery\", {}).get(\"model_parameters\", {})\n",
        "        print(\"\\nCurrent battery parameters:\")\n",
        "        print(f\"max: {battery_params.get('max', 'N/A')}\")\n",
        "        print(f\"charge_rate_max: {battery_params.get('charge_rate_max', 'N/A')}\")\n",
        "        print(f\"discharge_rate_max: {battery_params.get('discharge_rate_max', 'N/A')}\")\n",
        "        print(f\"charge_efficiency: {battery_params.get('charge_efficiency', 'N/A')}\")\n",
        "        print(f\"discharge_efficiency: {battery_params.get('discharge_efficiency', 'N/A')}\")\n",
        "        print(f\"init: {battery_params.get('init', 'N/A')}\")\n",
        "        \n",
        "        edit_choice = input(\"Do you want to edit these parameters? (yes/no): \").strip().lower()\n",
        "        if edit_choice == \"yes\":\n",
        "            new_max = input(\"Enter new max (default 100.0): \").strip() or \"100.0\"\n",
        "            new_charge_rate_max = input(\"Enter new charge_rate_max (default 10.0): \").strip() or \"10.0\"\n",
        "            new_discharge_rate_max = input(\"Enter new discharge_rate_max (default 10.0): \").strip() or \"10.0\"\n",
        "            new_charge_efficiency = input(\"Enter new charge_efficiency (default 1.0): \").strip() or \"1.0\"\n",
        "            new_discharge_efficiency = input(\"Enter new discharge_efficiency (default 1.0): \").strip() or \"1.0\"\n",
        "            new_init = input(\"Enter new init (default 0.0): \").strip() or \"0.0\"\n",
        "            \n",
        "            # Update the battery parameters with the new values\n",
        "            battery_params[\"max\"] = float(new_max)\n",
        "            battery_params[\"charge_rate_max\"] = float(new_charge_rate_max)\n",
        "            battery_params[\"discharge_rate_max\"] = float(new_discharge_rate_max)\n",
        "            battery_params[\"charge_efficiency\"] = float(new_charge_efficiency)\n",
        "            battery_params[\"discharge_efficiency\"] = float(new_discharge_efficiency)\n",
        "            battery_params[\"init\"] = float(new_init)\n",
        "            \n",
        "            # Update the configuration dictionary\n",
        "            config[\"battery\"][\"model_parameters\"] = battery_params\n",
        "            \n",
        "            # Write the updated configuration back to the file\n",
        "            try:\n",
        "                with open(config_path, \"w\") as file:\n",
        "                    yaml.dump(config, file)\n",
        "                print(\"pcs_unit_config.yaml updated successfully.\")\n",
        "            except Exception as e:\n",
        "                print(\"Error writing YAML file:\", e)\n",
        "        else:\n",
        "            print(\"No changes made to pcs_unit_config.yaml.\")\n",
        "else:\n",
        "    print(\"Skipping editing of pcs_unit_config.yaml battery parameters.\")\n",
        "\n",
        "\n",
        "# ---------- Block: PCSs Agent Selection ----------\n",
        "\n",
        "def load_pcss(config_files):\n",
        "    return f\"PCSs model loaded with config(s): {config_files}\"\n",
        "\n",
        "print(\"\\nPlease select a PCSs agent model:\")\n",
        "print(\"1: Variable prices in intervals\")\n",
        "print(\"2: Quadratic price based on demand\")\n",
        "print(\"3: Online variable price\")\n",
        "print(\"4: None\")\n",
        "\n",
        "choice = input(\"Enter 1, 2, 3 or 4: \").strip()\n",
        "\n",
        "if choice == \"1\":\n",
        "    config_files = \"path/to/variable_prices_in_intervals_config.json\"\n",
        "elif choice == \"2\":\n",
        "    config_files = \"path/to/quadratic_price_based_on_demand_config.json\"\n",
        "elif choice == \"3\":\n",
        "    config_files = \"path/to/online_variable_price_config.json\"\n",
        "elif choice == \"4\":\n",
        "    config_files = None\n",
        "else:\n",
        "    print(\"Invalid choice. Defaulting to option 4.\")\n",
        "    config_files = None\n",
        "\n",
        "# Load the PCSs agent using the chosen configuration file (if any)\n",
        "PCSs = load_pcss([config_files])\n",
        "print(\"Loaded PCSs:\", PCSs)\n"
      ]
    },
    {
      "cell_type": "markdown",
      "metadata": {},
      "source": [
        "## ISO Parameter Selection"
      ]
    },
    {
      "cell_type": "code",
      "execution_count": 30,
      "metadata": {
        "id": "dat-L71-37LH"
      },
      "outputs": [
        {
          "name": "stdout",
          "output_type": "stream",
          "text": [
            "Select a pricing policy:\n",
            "1: QUADRATIC\n",
            "2: ONLINE\n",
            "3: CONSTANT\n",
            "Randomly selected seed: 5551\n",
            "ISO training parameters:\n",
            "{'trained_pcs_model_path': 'path/to/your/selected/model/config.json', 'pricing_policy_str': 'QUADRATIC', 'total_iterations': 10, 'train_timesteps_per_iteration': 10, 'eval_episodes': 5, 'seed': 5551}\n"
          ]
        }
      ],
      "source": [
        "import random\n",
        "\n",
        "chosen_model_path = \"path/to/your/selected/model/config.json\"  # Update as needed\n",
        "\n",
        "# --- Pricing Policy Selection ---\n",
        "print(\"Select a pricing policy:\")\n",
        "print(\"1: QUADRATIC\")\n",
        "print(\"2: ONLINE\")\n",
        "print(\"3: CONSTANT\")\n",
        "\n",
        "policy_choice = input(\"Enter your choice (1, 2, or 3): \").strip()\n",
        "\n",
        "if policy_choice == \"1\":\n",
        "    pricing_policy_str = \"QUADRATIC\"\n",
        "elif policy_choice == \"2\":\n",
        "    pricing_policy_str = \"ONLINE\"\n",
        "elif policy_choice == \"3\":\n",
        "    pricing_policy_str = \"CONSTANT\"\n",
        "else:\n",
        "    print(\"Invalid choice. Defaulting to QUADRATIC.\")\n",
        "    pricing_policy_str = \"QUADRATIC\"\n",
        "\n",
        "# --- Training Parameter Inputs ---\n",
        "try:\n",
        "    total_iterations = int(input(\"Enter total_iterations (e.g. 10): \").strip())\n",
        "except:\n",
        "    total_iterations = 10\n",
        "\n",
        "try:\n",
        "    train_timesteps_per_iteration = int(input(\"Enter train_timesteps_per_iteration (e.g. 10000): \").strip())\n",
        "except:\n",
        "    train_timesteps_per_iteration = 10000\n",
        "\n",
        "try:\n",
        "    eval_episodes = int(input(\"Enter eval_episodes (e.g. 5): \").strip())\n",
        "except:\n",
        "    eval_episodes = 5\n",
        "\n",
        "# --- Random Seed Generation ---\n",
        "seed = random.randint(0, 10000)\n",
        "print(f\"Randomly selected seed: {seed}\")\n",
        "\n",
        "# --- Store parameters in a dictionary ---\n",
        "iso_params = {\n",
        "    \"trained_pcs_model_path\": chosen_model_path,\n",
        "    \"pricing_policy_str\": pricing_policy_str,\n",
        "    \"total_iterations\": total_iterations,\n",
        "    \"train_timesteps_per_iteration\": train_timesteps_per_iteration,\n",
        "    \"eval_episodes\": eval_episodes,\n",
        "    \"seed\": seed\n",
        "}\n",
        "\n",
        "print(\"ISO training parameters:\")\n",
        "print(iso_params)\n"
      ]
    },
    {
      "cell_type": "markdown",
      "metadata": {
        "id": "IjtpQtZg8rUk"
      },
      "source": [
        "# Training ISO agent"
      ]
    },
    {
      "cell_type": "code",
      "execution_count": 31,
      "metadata": {
        "id": "MFzB83Ii4i0Q"
      },
      "outputs": [
        {
          "name": "stdout",
          "output_type": "stream",
          "text": [
            "Starting ISO training...\n",
            "Using cpu device\n",
            "Starting iterative training for 10 iterations.\n",
            "Training ISO, using current ISO model\n",
            "Logging to logs/agent_iso/PPO_11\n"
          ]
        },
        {
          "data": {
            "application/vnd.jupyter.widget-view+json": {
              "model_id": "3620a2377ebd41e4b7b19abde694caf5",
              "version_major": 2,
              "version_minor": 0
            },
            "text/plain": [
              "Output()"
            ]
          },
          "metadata": {},
          "output_type": "display_data"
        },
        {
          "name": "stdout",
          "output_type": "stream",
          "text": [
            "----------------------------------\n",
            "| rollout/           |           |\n",
            "|    ep_len_mean     | 48        |\n",
            "|    ep_rew_mean     | -1.02e+08 |\n",
            "| time/              |           |\n",
            "|    fps             | 249       |\n",
            "|    iterations      | 1         |\n",
            "|    time_elapsed    | 8         |\n",
            "|    total_timesteps | 2048      |\n",
            "----------------------------------\n"
          ]
        },
        {
          "data": {
            "text/html": [
              "<pre style=\"white-space:pre;overflow-x:auto;line-height:normal;font-family:Menlo,'DejaVu Sans Mono',consolas,'Courier New',monospace\"></pre>\n"
            ],
            "text/plain": []
          },
          "metadata": {},
          "output_type": "display_data"
        },
        {
          "name": "stdout",
          "output_type": "stream",
          "text": [
            "[ISO] Mean Reward: -87943042.42 +/- 51033909.08\n",
            "Saved flows and prices plot to logs/agent_iso/episode_0_flows_prices.png\n",
            "Saved cost components plot to logs/agent_iso/episode_0_cost_components.png\n",
            "Saved final cost distribution plot to logs/agent_iso/episode_0_final_cost_distribution.png\n",
            "Training ISO, using current ISO model\n",
            "Logging to logs/agent_iso/PPO_12\n"
          ]
        },
        {
          "data": {
            "application/vnd.jupyter.widget-view+json": {
              "model_id": "d23fe7f9fb1c40a4a4d94888a8078609",
              "version_major": 2,
              "version_minor": 0
            },
            "text/plain": [
              "Output()"
            ]
          },
          "metadata": {},
          "output_type": "display_data"
        },
        {
          "name": "stdout",
          "output_type": "stream",
          "text": [
            "-----------------------------\n",
            "| time/              |      |\n",
            "|    fps             | 225  |\n",
            "|    iterations      | 1    |\n",
            "|    time_elapsed    | 9    |\n",
            "|    total_timesteps | 2048 |\n",
            "-----------------------------\n"
          ]
        },
        {
          "data": {
            "text/html": [
              "<pre style=\"white-space:pre;overflow-x:auto;line-height:normal;font-family:Menlo,'DejaVu Sans Mono',consolas,'Courier New',monospace\">Runtime info saved to runtime_info.pkl\n",
              "</pre>\n"
            ],
            "text/plain": [
              "Runtime info saved to runtime_info.pkl\n"
            ]
          },
          "metadata": {},
          "output_type": "display_data"
        },
        {
          "data": {
            "text/html": [
              "<pre style=\"white-space:pre;overflow-x:auto;line-height:normal;font-family:Menlo,'DejaVu Sans Mono',consolas,'Courier New',monospace\"></pre>\n"
            ],
            "text/plain": []
          },
          "metadata": {},
          "output_type": "display_data"
        },
        {
          "name": "stdout",
          "output_type": "stream",
          "text": [
            "[ISO] Mean Reward: -82922333.07 +/- 57243252.12\n",
            "Saved flows and prices plot to logs/agent_iso/episode_1_flows_prices.png\n",
            "Saved cost components plot to logs/agent_iso/episode_1_cost_components.png\n",
            "Saved final cost distribution plot to logs/agent_iso/episode_1_final_cost_distribution.png\n",
            "Training ISO, using current ISO model\n",
            "Logging to logs/agent_iso/PPO_13\n"
          ]
        },
        {
          "data": {
            "application/vnd.jupyter.widget-view+json": {
              "model_id": "3b816eff6ff54ca786e737c027270ad3",
              "version_major": 2,
              "version_minor": 0
            },
            "text/plain": [
              "Output()"
            ]
          },
          "metadata": {},
          "output_type": "display_data"
        },
        {
          "name": "stdout",
          "output_type": "stream",
          "text": [
            "-----------------------------\n",
            "| time/              |      |\n",
            "|    fps             | 258  |\n",
            "|    iterations      | 1    |\n",
            "|    time_elapsed    | 7    |\n",
            "|    total_timesteps | 2048 |\n",
            "-----------------------------\n"
          ]
        },
        {
          "data": {
            "text/html": [
              "<pre style=\"white-space:pre;overflow-x:auto;line-height:normal;font-family:Menlo,'DejaVu Sans Mono',consolas,'Courier New',monospace\">Runtime info saved to runtime_info.pkl\n",
              "</pre>\n"
            ],
            "text/plain": [
              "Runtime info saved to runtime_info.pkl\n"
            ]
          },
          "metadata": {},
          "output_type": "display_data"
        },
        {
          "data": {
            "text/html": [
              "<pre style=\"white-space:pre;overflow-x:auto;line-height:normal;font-family:Menlo,'DejaVu Sans Mono',consolas,'Courier New',monospace\"></pre>\n"
            ],
            "text/plain": []
          },
          "metadata": {},
          "output_type": "display_data"
        },
        {
          "name": "stdout",
          "output_type": "stream",
          "text": [
            "[ISO] Mean Reward: -136399242.49 +/- 70242150.28\n",
            "Saved flows and prices plot to logs/agent_iso/episode_2_flows_prices.png\n",
            "Saved cost components plot to logs/agent_iso/episode_2_cost_components.png\n",
            "Saved final cost distribution plot to logs/agent_iso/episode_2_final_cost_distribution.png\n",
            "Training ISO, using current ISO model\n",
            "Logging to logs/agent_iso/PPO_14\n"
          ]
        },
        {
          "data": {
            "application/vnd.jupyter.widget-view+json": {
              "model_id": "9bb47715322d485d9d7b126796b41c59",
              "version_major": 2,
              "version_minor": 0
            },
            "text/plain": [
              "Output()"
            ]
          },
          "metadata": {},
          "output_type": "display_data"
        },
        {
          "name": "stdout",
          "output_type": "stream",
          "text": [
            "-----------------------------\n",
            "| time/              |      |\n",
            "|    fps             | 311  |\n",
            "|    iterations      | 1    |\n",
            "|    time_elapsed    | 6    |\n",
            "|    total_timesteps | 2048 |\n",
            "-----------------------------\n"
          ]
        },
        {
          "data": {
            "text/html": [
              "<pre style=\"white-space:pre;overflow-x:auto;line-height:normal;font-family:Menlo,'DejaVu Sans Mono',consolas,'Courier New',monospace\">Runtime info saved to runtime_info.pkl\n",
              "</pre>\n"
            ],
            "text/plain": [
              "Runtime info saved to runtime_info.pkl\n"
            ]
          },
          "metadata": {},
          "output_type": "display_data"
        },
        {
          "data": {
            "text/html": [
              "<pre style=\"white-space:pre;overflow-x:auto;line-height:normal;font-family:Menlo,'DejaVu Sans Mono',consolas,'Courier New',monospace\"></pre>\n"
            ],
            "text/plain": []
          },
          "metadata": {},
          "output_type": "display_data"
        },
        {
          "name": "stdout",
          "output_type": "stream",
          "text": [
            "[ISO] Mean Reward: -99214917.17 +/- 83072633.66\n",
            "Saved flows and prices plot to logs/agent_iso/episode_3_flows_prices.png\n",
            "Saved cost components plot to logs/agent_iso/episode_3_cost_components.png\n",
            "Saved final cost distribution plot to logs/agent_iso/episode_3_final_cost_distribution.png\n",
            "Training ISO, using current ISO model\n",
            "Logging to logs/agent_iso/PPO_15\n"
          ]
        },
        {
          "data": {
            "application/vnd.jupyter.widget-view+json": {
              "model_id": "6cc5e4154f394ae8932e39b8bf982f0b",
              "version_major": 2,
              "version_minor": 0
            },
            "text/plain": [
              "Output()"
            ]
          },
          "metadata": {},
          "output_type": "display_data"
        },
        {
          "name": "stdout",
          "output_type": "stream",
          "text": [
            "-----------------------------\n",
            "| time/              |      |\n",
            "|    fps             | 299  |\n",
            "|    iterations      | 1    |\n",
            "|    time_elapsed    | 6    |\n",
            "|    total_timesteps | 2048 |\n",
            "-----------------------------\n"
          ]
        },
        {
          "data": {
            "text/html": [
              "<pre style=\"white-space:pre;overflow-x:auto;line-height:normal;font-family:Menlo,'DejaVu Sans Mono',consolas,'Courier New',monospace\">Runtime info saved to runtime_info.pkl\n",
              "</pre>\n"
            ],
            "text/plain": [
              "Runtime info saved to runtime_info.pkl\n"
            ]
          },
          "metadata": {},
          "output_type": "display_data"
        },
        {
          "data": {
            "text/html": [
              "<pre style=\"white-space:pre;overflow-x:auto;line-height:normal;font-family:Menlo,'DejaVu Sans Mono',consolas,'Courier New',monospace\"></pre>\n"
            ],
            "text/plain": []
          },
          "metadata": {},
          "output_type": "display_data"
        },
        {
          "name": "stdout",
          "output_type": "stream",
          "text": [
            "[ISO] Mean Reward: -72592345.13 +/- 40323164.18\n",
            "Saved flows and prices plot to logs/agent_iso/episode_4_flows_prices.png\n",
            "Saved cost components plot to logs/agent_iso/episode_4_cost_components.png\n",
            "Saved final cost distribution plot to logs/agent_iso/episode_4_final_cost_distribution.png\n",
            "Training ISO, using current ISO model\n",
            "Logging to logs/agent_iso/PPO_16\n"
          ]
        },
        {
          "data": {
            "application/vnd.jupyter.widget-view+json": {
              "model_id": "2e9cb347a6244b7baac4b2d78ade62b9",
              "version_major": 2,
              "version_minor": 0
            },
            "text/plain": [
              "Output()"
            ]
          },
          "metadata": {},
          "output_type": "display_data"
        },
        {
          "name": "stdout",
          "output_type": "stream",
          "text": [
            "-----------------------------\n",
            "| time/              |      |\n",
            "|    fps             | 280  |\n",
            "|    iterations      | 1    |\n",
            "|    time_elapsed    | 7    |\n",
            "|    total_timesteps | 2048 |\n",
            "-----------------------------\n"
          ]
        },
        {
          "data": {
            "text/html": [
              "<pre style=\"white-space:pre;overflow-x:auto;line-height:normal;font-family:Menlo,'DejaVu Sans Mono',consolas,'Courier New',monospace\">Runtime info saved to runtime_info.pkl\n",
              "</pre>\n"
            ],
            "text/plain": [
              "Runtime info saved to runtime_info.pkl\n"
            ]
          },
          "metadata": {},
          "output_type": "display_data"
        },
        {
          "data": {
            "text/html": [
              "<pre style=\"white-space:pre;overflow-x:auto;line-height:normal;font-family:Menlo,'DejaVu Sans Mono',consolas,'Courier New',monospace\"></pre>\n"
            ],
            "text/plain": []
          },
          "metadata": {},
          "output_type": "display_data"
        },
        {
          "name": "stdout",
          "output_type": "stream",
          "text": [
            "[ISO] Mean Reward: -111457024.15 +/- 43103852.39\n",
            "Saved flows and prices plot to logs/agent_iso/episode_5_flows_prices.png\n",
            "Saved cost components plot to logs/agent_iso/episode_5_cost_components.png\n",
            "Saved final cost distribution plot to logs/agent_iso/episode_5_final_cost_distribution.png\n",
            "Training ISO, using current ISO model\n",
            "Logging to logs/agent_iso/PPO_17\n"
          ]
        },
        {
          "data": {
            "application/vnd.jupyter.widget-view+json": {
              "model_id": "c6bc3e442c8740079387f0a65c67cdd4",
              "version_major": 2,
              "version_minor": 0
            },
            "text/plain": [
              "Output()"
            ]
          },
          "metadata": {},
          "output_type": "display_data"
        },
        {
          "name": "stdout",
          "output_type": "stream",
          "text": [
            "-----------------------------\n",
            "| time/              |      |\n",
            "|    fps             | 302  |\n",
            "|    iterations      | 1    |\n",
            "|    time_elapsed    | 6    |\n",
            "|    total_timesteps | 2048 |\n",
            "-----------------------------\n"
          ]
        },
        {
          "data": {
            "text/html": [
              "<pre style=\"white-space:pre;overflow-x:auto;line-height:normal;font-family:Menlo,'DejaVu Sans Mono',consolas,'Courier New',monospace\"></pre>\n"
            ],
            "text/plain": []
          },
          "metadata": {},
          "output_type": "display_data"
        },
        {
          "name": "stdout",
          "output_type": "stream",
          "text": [
            "[ISO] Mean Reward: -86081920.34 +/- 76611225.76\n",
            "Saved flows and prices plot to logs/agent_iso/episode_6_flows_prices.png\n",
            "Saved cost components plot to logs/agent_iso/episode_6_cost_components.png\n",
            "Saved final cost distribution plot to logs/agent_iso/episode_6_final_cost_distribution.png\n",
            "Training ISO, using current ISO model\n",
            "Logging to logs/agent_iso/PPO_18\n"
          ]
        },
        {
          "data": {
            "application/vnd.jupyter.widget-view+json": {
              "model_id": "6fdf039f075a42d18cfbec7049d7f0f6",
              "version_major": 2,
              "version_minor": 0
            },
            "text/plain": [
              "Output()"
            ]
          },
          "metadata": {},
          "output_type": "display_data"
        },
        {
          "name": "stdout",
          "output_type": "stream",
          "text": [
            "-----------------------------\n",
            "| time/              |      |\n",
            "|    fps             | 330  |\n",
            "|    iterations      | 1    |\n",
            "|    time_elapsed    | 6    |\n",
            "|    total_timesteps | 2048 |\n",
            "-----------------------------\n"
          ]
        },
        {
          "data": {
            "text/html": [
              "<pre style=\"white-space:pre;overflow-x:auto;line-height:normal;font-family:Menlo,'DejaVu Sans Mono',consolas,'Courier New',monospace\">Runtime info saved to runtime_info.pkl\n",
              "</pre>\n"
            ],
            "text/plain": [
              "Runtime info saved to runtime_info.pkl\n"
            ]
          },
          "metadata": {},
          "output_type": "display_data"
        },
        {
          "data": {
            "text/html": [
              "<pre style=\"white-space:pre;overflow-x:auto;line-height:normal;font-family:Menlo,'DejaVu Sans Mono',consolas,'Courier New',monospace\"></pre>\n"
            ],
            "text/plain": []
          },
          "metadata": {},
          "output_type": "display_data"
        },
        {
          "name": "stdout",
          "output_type": "stream",
          "text": [
            "[ISO] Mean Reward: -69170999.56 +/- 66727379.41\n",
            "Saved flows and prices plot to logs/agent_iso/episode_7_flows_prices.png\n",
            "Saved cost components plot to logs/agent_iso/episode_7_cost_components.png\n",
            "Saved final cost distribution plot to logs/agent_iso/episode_7_final_cost_distribution.png\n",
            "Training ISO, using current ISO model\n",
            "Logging to logs/agent_iso/PPO_19\n"
          ]
        },
        {
          "data": {
            "application/vnd.jupyter.widget-view+json": {
              "model_id": "ed7c079a4c0549a7b07f408f6058f7ab",
              "version_major": 2,
              "version_minor": 0
            },
            "text/plain": [
              "Output()"
            ]
          },
          "metadata": {},
          "output_type": "display_data"
        },
        {
          "name": "stdout",
          "output_type": "stream",
          "text": [
            "-----------------------------\n",
            "| time/              |      |\n",
            "|    fps             | 347  |\n",
            "|    iterations      | 1    |\n",
            "|    time_elapsed    | 5    |\n",
            "|    total_timesteps | 2048 |\n",
            "-----------------------------\n"
          ]
        },
        {
          "data": {
            "text/html": [
              "<pre style=\"white-space:pre;overflow-x:auto;line-height:normal;font-family:Menlo,'DejaVu Sans Mono',consolas,'Courier New',monospace\">Runtime info saved to runtime_info.pkl\n",
              "</pre>\n"
            ],
            "text/plain": [
              "Runtime info saved to runtime_info.pkl\n"
            ]
          },
          "metadata": {},
          "output_type": "display_data"
        },
        {
          "data": {
            "text/html": [
              "<pre style=\"white-space:pre;overflow-x:auto;line-height:normal;font-family:Menlo,'DejaVu Sans Mono',consolas,'Courier New',monospace\"></pre>\n"
            ],
            "text/plain": []
          },
          "metadata": {},
          "output_type": "display_data"
        },
        {
          "name": "stdout",
          "output_type": "stream",
          "text": [
            "[ISO] Mean Reward: -110821029.13 +/- 114966370.29\n",
            "Saved flows and prices plot to logs/agent_iso/episode_8_flows_prices.png\n",
            "Saved cost components plot to logs/agent_iso/episode_8_cost_components.png\n",
            "Saved final cost distribution plot to logs/agent_iso/episode_8_final_cost_distribution.png\n",
            "Training ISO, using current ISO model\n",
            "Logging to logs/agent_iso/PPO_20\n"
          ]
        },
        {
          "data": {
            "application/vnd.jupyter.widget-view+json": {
              "model_id": "0fd369d5f8a94dbcb7d8ae74167daa96",
              "version_major": 2,
              "version_minor": 0
            },
            "text/plain": [
              "Output()"
            ]
          },
          "metadata": {},
          "output_type": "display_data"
        },
        {
          "name": "stdout",
          "output_type": "stream",
          "text": [
            "-----------------------------\n",
            "| time/              |      |\n",
            "|    fps             | 314  |\n",
            "|    iterations      | 1    |\n",
            "|    time_elapsed    | 6    |\n",
            "|    total_timesteps | 2048 |\n",
            "-----------------------------\n"
          ]
        },
        {
          "data": {
            "text/html": [
              "<pre style=\"white-space:pre;overflow-x:auto;line-height:normal;font-family:Menlo,'DejaVu Sans Mono',consolas,'Courier New',monospace\">Runtime info saved to runtime_info.pkl\n",
              "</pre>\n"
            ],
            "text/plain": [
              "Runtime info saved to runtime_info.pkl\n"
            ]
          },
          "metadata": {},
          "output_type": "display_data"
        },
        {
          "data": {
            "text/html": [
              "<pre style=\"white-space:pre;overflow-x:auto;line-height:normal;font-family:Menlo,'DejaVu Sans Mono',consolas,'Courier New',monospace\"></pre>\n"
            ],
            "text/plain": []
          },
          "metadata": {},
          "output_type": "display_data"
        },
        {
          "name": "stdout",
          "output_type": "stream",
          "text": [
            "[ISO] Mean Reward: -135819449.80 +/- 76213192.89\n",
            "Saved flows and prices plot to logs/agent_iso/episode_9_flows_prices.png\n",
            "Saved cost components plot to logs/agent_iso/episode_9_cost_components.png\n",
            "Saved final cost distribution plot to logs/agent_iso/episode_9_final_cost_distribution.png\n",
            "Iterative training completed.\n",
            "Final ISO model saved to models/agent_iso/agent_iso_final.zip\n",
            "Training and evaluation process completed.\n",
            "Final ISO Model - Mean Reward: -71253433.7783229 +/- 55040143.06998036\n"
          ]
        }
      ],
      "source": [
        "from iso_game_main import train_and_evaluate_agent, PricingPolicy\n",
        "\n",
        "# Convert the pricing policy string to the corresponding enum value.\n",
        "if iso_params[\"pricing_policy_str\"] == \"QUADRATIC\":\n",
        "    pricing_policy_enum = PricingPolicy.QUADRATIC\n",
        "elif iso_params[\"pricing_policy_str\"] == \"ONLINE\":\n",
        "    pricing_policy_enum = PricingPolicy.ONLINE\n",
        "elif iso_params[\"pricing_policy_str\"] == \"CONSTANT\":\n",
        "    pricing_policy_enum = PricingPolicy.CONSTANT\n",
        "else:\n",
        "    pricing_policy_enum = PricingPolicy.QUADRATIC\n",
        "\n",
        "print(\"Starting ISO training...\")\n",
        "train_and_evaluate_agent(\n",
        "    algo_type='PPO',\n",
        "    trained_pcs_model_path=iso_params[\"trained_pcs_model_path\"],\n",
        "    pricing_policy=pricing_policy_enum,\n",
        "    total_iterations=iso_params[\"total_iterations\"],\n",
        "    train_timesteps_per_iteration=iso_params[\"train_timesteps_per_iteration\"],\n",
        "    eval_episodes=iso_params[\"eval_episodes\"],\n",
        "    seed=iso_params[\"seed\"]\n",
        ")\n"
      ]
    },
    {
      "cell_type": "markdown",
      "metadata": {
        "id": "GN_Wg-zJ8QfD"
      },
      "source": [
        "# Eval / Visualizations"
      ]
    },
    {
      "cell_type": "code",
      "execution_count": null,
      "metadata": {},
      "outputs": [
        {
          "name": "stdout",
          "output_type": "stream",
          "text": [
            "Please provide evaluation parameters for evaluation:\n",
            "Default trained model path: models/agent_iso/agent_iso_final.zip\n",
            "Default normalizer path: models/agent_iso/agent_iso_normalizer.pkl\n",
            "Default trained PCS model path: None\n",
            "Select a pricing policy for evaluation:\n",
            "1: QUADRATIC\n",
            "2: ONLINE\n",
            "3: CONSTANT\n",
            "Randomly selected internal seed (not passed to eval_agent.py): 4476\n",
            "\n",
            "Running evaluation with the following command:\n",
            "python3 eval_agent.py --trained_model_path models/agent_iso/agent_iso_final.zip --trained_pcs_model_path None --normalizer_path models/agent_iso/agent_iso_normalizer.pkl --pricing_policy QUADRATIC --eval_episodes 2\n"
          ]
        },
        {
          "name": "stderr",
          "output_type": "stream",
          "text": [
            "Python(24897) MallocStackLogging: can't turn off malloc stack logging because it was not enabled.\n"
          ]
        },
        {
          "name": "stdout",
          "output_type": "stream",
          "text": [
            "\n",
            "Evaluation Output:\n",
            "Registering PCSUnitEnv-v0\n",
            "Registering ISOEnv-v0\n",
            "\n",
            "Starting Episode 1/2\n",
            "Episode 1 completed - Reward: -94753960.62\n",
            "Saved flows and prices plot to evaluation_results/episode_0_flows_prices.png\n",
            "Saved cost components plot to evaluation_results/episode_0_cost_components.png\n",
            "Saved final cost distribution plot to evaluation_results/episode_0_final_cost_distribution.png\n",
            "\n",
            "Starting Episode 2/2\n",
            "Episode 2 completed - Reward: -10072905.88\n",
            "Saved flows and prices plot to evaluation_results/episode_1_flows_prices.png\n",
            "Saved cost components plot to evaluation_results/episode_1_cost_components.png\n",
            "Saved final cost distribution plot to evaluation_results/episode_1_final_cost_distribution.png\n",
            "Evaluation completed - Check evaluation_results directory for plots\n",
            "\n"
          ]
        }
      ],
      "source": [
        "import subprocess\n",
        "import random\n",
        "\n",
        "# ----------------- Evaluation Parameter Selection -----------------\n",
        "print(\"Please provide evaluation parameters for evaluation:\")\n",
        "\n",
        "# Defaults from your training output:\n",
        "trained_model_path = \"models/agent_iso/agent_iso_final.zip\"\n",
        "normalizer_path = \"models/agent_iso/agent_iso_normalizer.pkl\"\n",
        "\n",
        "# For the trained_pcs_model_path, we set the default as the string \"None\"\n",
        "trained_pcs_model_path = \"None\"\n",
        "\n",
        "print(f\"Default trained model path: {trained_model_path}\")\n",
        "print(f\"Default normalizer path: {normalizer_path}\")\n",
        "print(f\"Default trained PCS model path: {trained_pcs_model_path}\")\n",
        "\n",
        "# Pricing policy selection for evaluation\n",
        "print(\"Select a pricing policy for evaluation:\")\n",
        "print(\"1: QUADRATIC\")\n",
        "print(\"2: ONLINE\")\n",
        "print(\"3: CONSTANT\")\n",
        "policy_choice = input(\"Enter your choice (1, 2, or 3): \").strip()\n",
        "\n",
        "if policy_choice == \"1\":\n",
        "    pricing_policy_str = \"QUADRATIC\"\n",
        "elif policy_choice == \"2\":\n",
        "    pricing_policy_str = \"ONLINE\"\n",
        "elif policy_choice == \"3\":\n",
        "    pricing_policy_str = \"CONSTANT\"\n",
        "else:\n",
        "    print(\"Invalid choice. Defaulting to QUADRATIC.\")\n",
        "    pricing_policy_str = \"QUADRATIC\"\n",
        "\n",
        "# Number of evaluation episodes\n",
        "try:\n",
        "    eval_episodes = int(input(\"Enter the number of evaluation episodes (e.g., 5): \").strip())\n",
        "except Exception as e:\n",
        "    print(\"Invalid input. Defaulting to 5 episodes.\")\n",
        "    eval_episodes = 5\n",
        "\n",
        "seed = random.randint(0, 10000)\n",
        "print(f\"Randomly selected internal seed (not passed to eval_agent.py): {seed}\")\n",
        "\n",
        "# ----------------- Run Evaluation via eval_agent.py -----------------\n",
        "# Construct the command to run eval_agent.py with the required arguments.\n",
        "command = [\n",
        "    \"python3\", \"eval_agent.py\",\n",
        "    \"--trained_model_path\", trained_model_path,\n",
        "    \"--trained_pcs_model_path\", trained_pcs_model_path,\n",
        "    \"--normalizer_path\", normalizer_path,\n",
        "    \"--pricing_policy\", pricing_policy_str,\n",
        "    \"--eval_episodes\", str(eval_episodes)\n",
        "]\n",
        "\n",
        "print(\"\\nRunning evaluation with the following command:\")\n",
        "print(\" \".join(command))\n",
        "result = subprocess.run(command, capture_output=True, text=True)\n",
        "\n",
        "print(\"\\nEvaluation Output:\")\n",
        "print(result.stdout)\n",
        "if result.stderr:\n",
        "    print(\"Evaluation Errors:\")\n",
        "    print(result.stderr)\n"
      ]
    },
    {
      "cell_type": "code",
      "execution_count": null,
      "metadata": {
        "id": "XvYVDey737OA"
      },
      "outputs": [
        {
          "data": {
            "image/png": "[encoded data removed]",
            "text/plain": [
              "<Figure size 600x600 with 1 Axes>"
            ]
          },
          "metadata": {},
          "output_type": "display_data"
        }
      ],
      "source": [
        "import pickle\n",
        "import matplotlib.pyplot as plt\n",
        "\n",
        "# Load runtime info (a list of episodes, each being a list of step dictionaries)\n",
        "data_file = \"runtime_info.pkl\"\n",
        "with open(data_file, \"rb\") as f:\n",
        "    all_episodes_actions = pickle.load(f)\n",
        "\n",
        "episode_number = random.randint(1, len(all_episodes_actions)) # maybe should change\n",
        "\n",
        "if len(all_episodes_actions) < episode_number:\n",
        "    print(f\"Only {len(all_episodes_actions)} episodes available; cannot display episode {episode_number}.\")\n",
        "else:\n",
        "    episode_data = all_episodes_actions[episode_number - 1]\n",
        "    \n",
        "    # Compute cost components as in your callbacks:\n",
        "    dispatch_costs = [step.get('dispatch_cost', 0.0) for step in episode_data]\n",
        "    pcs_costs = [\n",
        "        step.get('net_exchange', 0.0) * \n",
        "        (step.get('iso_sell_price', 0.0) if step.get('net_exchange', 0.0) > 0 \n",
        "         else step.get('iso_buy_price', 0.0))\n",
        "        for step in episode_data\n",
        "    ]\n",
        "    reserve_costs = [step.get('reserve_cost', 0.0) for step in episode_data]\n",
        "    \n",
        "    total_dispatch = sum(dispatch_costs)\n",
        "    total_pcs = sum(pcs_costs)\n",
        "    total_reserve = sum(reserve_costs)\n",
        "    \n",
        "    # Create the final cost distribution figure (similar to Figure 3 in your callback)\n",
        "    fig = plt.figure(figsize=(6, 6))\n",
        "    ax = fig.add_subplot(1, 1, 1)\n",
        "    \n",
        "    ax.bar([0], [total_dispatch], color='lightblue', label='Dispatch Cost')\n",
        "    ax.bar([0], [total_pcs], bottom=[total_dispatch], color='lightgreen', label='PCS Exchange Cost')\n",
        "    ax.bar([0], [total_reserve], bottom=[total_dispatch + total_pcs], color='salmon', label='Reserve Cost')\n",
        "    \n",
        "    ax.set_ylabel('Total Cost ($)', fontsize=12)\n",
        "    ax.set_title(f'Episode {episode_number} Final Cost Distribution', fontsize=14)\n",
        "    ax.set_xticks([])\n",
        "    ax.legend(loc='upper left', bbox_to_anchor=(1, 1), fontsize=10)\n",
        "    \n",
        "    plt.tight_layout()\n",
        "    plt.show()\n"
      ]
    },
    {
      "cell_type": "code",
      "execution_count": null,
      "metadata": {
        "id": "tJdMwYi-37QR"
      },
      "outputs": [
        {
          "name": "stdout",
          "output_type": "stream",
          "text": [
            "Loaded runtime data with 420 episodes.\n"
          ]
        },
        {
          "data": {
            "image/png": "[encoded data removed]",
            "text/plain": [
              "<Figure size 1500x600 with 1 Axes>"
            ]
          },
          "metadata": {},
          "output_type": "display_data"
        }
      ],
      "source": [
        "import pickle\n",
        "import matplotlib.pyplot as plt\n",
        "\n",
        "# Load runtime data from file (this file should have been created by your callback)\n",
        "runtime_file = \"runtime_info.pkl\"\n",
        "try:\n",
        "    with open(runtime_file, \"rb\") as f:\n",
        "        all_episodes_actions = pickle.load(f)\n",
        "    print(f\"Loaded runtime data with {len(all_episodes_actions)} episodes.\")\n",
        "except Exception as e:\n",
        "    print(\"Error loading runtime data:\", e)\n",
        "    all_episodes_actions = []\n",
        "\n",
        "# Define the episode number to plot (Episode 9)\n",
        "episode_num = random.randint(1, len(all_episodes_actions))   \n",
        "\n",
        "\n",
        "if len(all_episodes_actions) < episode_num:\n",
        "    print(f\"Only {len(all_episodes_actions)} episodes available; cannot plot episode {episode_num}.\")\n",
        "else:\n",
        "    episode_data = all_episodes_actions[episode_num - 1]\n",
        "    \n",
        "    # Extract data from the episode\n",
        "    steps = [step.get('step', 0) for step in episode_data]\n",
        "    dispatch = [step.get('dispatch', 0.0) for step in episode_data]\n",
        "    predicted_demand = [step.get('predicted_demand', 0.0) for step in episode_data]\n",
        "    realized_demand = [step.get('realized_demand', 0.0) for step in episode_data]\n",
        "    net_exchange = [step.get('net_exchange', 0.0) for step in episode_data]\n",
        "    \n",
        "    # Compute total (net) demand: realized_demand + net_exchange\n",
        "    net_demand = [r + n for r, n in zip(realized_demand, net_exchange)]\n",
        "    \n",
        "    # Create the plot replicating the upper graph (\"Energy Flows\")\n",
        "    plt.figure(figsize=(15, 6))  \n",
        "    plt.bar(steps, dispatch, width=0.8, color='lightblue', label='Dispatch')\n",
        "    plt.plot(steps, predicted_demand, 'k--', linewidth=2, label='Predicted Demand')\n",
        "    plt.plot(steps, realized_demand, 'b-', linewidth=2, label='Non Strategic Demand')\n",
        "    plt.plot(steps, net_demand, 'r-', linewidth=2, label='Total Demand')\n",
        "    \n",
        "    plt.ylabel('Energy (MWh)', fontsize=12)\n",
        "    plt.title(f'Energy Flows - Episode {episode_num}', fontsize=14)\n",
        "    plt.grid(True, alpha=0.3)\n",
        "    plt.legend(loc='upper right', fontsize=10)\n",
        "    plt.tight_layout()\n",
        "    plt.show()\n"
      ]
    },
    {
      "cell_type": "code",
      "execution_count": null,
      "metadata": {
        "id": "cVoetUcj37Ss"
      },
      "outputs": [],
      "source": [
        "#TODO graph Itay\n",
        "# predicted demand"
      ]
    },
    {
      "cell_type": "code",
      "execution_count": null,
      "metadata": {
        "id": "_1WlB13C8W5e"
      },
      "outputs": [],
      "source": [
        "#TODO graph throughout training Sarah\n",
        "# cost"
      ]
    },
    {
      "cell_type": "code",
      "execution_count": null,
      "metadata": {
        "id": "4_X-k2cM37VH"
      },
      "outputs": [],
      "source": [
        "#TODO eval"
      ]
    },
    {
      "cell_type": "code",
      "execution_count": null,
      "metadata": {
        "id": "59J-6g0137XO"
      },
      "outputs": [],
      "source": []
    },
    {
      "cell_type": "markdown",
      "metadata": {
        "id": "bxkufEY6VqtA"
      },
      "source": [
        "\\\n",
        "\n",
        "---\n",
        "\n",
        "\n",
        "\n",
        "---\n",
        "\n",
        "\n",
        "\n",
        "---\n",
        "\n"
      ]
    },
    {
      "cell_type": "code",
      "execution_count": null,
      "metadata": {
        "id": "2G38dyrIziou"
      },
      "outputs": [],
      "source": [
        "import os\n",
        "import yaml\n",
        "import numpy as np\n",
        "import matplotlib.pyplot as plt\n",
        "import seaborn as sns\n",
        "import gymnasium as gym\n",
        "# import the ISOs\n",
        "from energy_net.dynamics.iso.hourly_pricing_iso import HourlyPricingISO\n",
        "from energy_net.dynamics.iso.random_pricing_iso import RandomPricingISO\n",
        "from energy_net.dynamics.iso.quadratic_pricing_iso import QuadraticPricingISO\n",
        "from energy_net.dynamics.iso.time_of_use_pricing_iso import TimeOfUsePricingISO\n",
        "from energy_net.dynamics.iso.dynamic_pricing_iso import DynamicPricingISO\n",
        "\n",
        "# Reward import\n",
        "from energy_net.rewards.cost_reward import CostReward\n",
        "# Instantiate the CostReward class\n",
        "reward_calc = CostReward()\n",
        "\n",
        "sns.set_theme(style=\"whitegrid\", font_scale=1.2)\n",
        "%matplotlib inline"
      ]
    },
    {
      "cell_type": "markdown",
      "metadata": {
        "id": "xMdpPU3u47PX"
      },
      "source": [
        "# ISOs"
      ]
    },
    {
      "cell_type": "markdown",
      "metadata": {
        "id": "G40snCtd3SCX"
      },
      "source": [
        "### HourlyPricingISO\n",
        "\n",
        "The `HourlyPricingISO` sets a specific price for each hour of the day. We pass a dictionary `hourly_rates` that maps `hour -> price`.\n",
        "\n",
        "Given a time (as a fraction of the day, where `0.0` is midnight and `1.0` is the next midnight), the ISO determines the current hour and sets a buy price. The sell price is a fraction (e.g., 90%) of the buy price.\n",
        "\n",
        "The reward for a given transaction (`buy_amount`, `sell_amount`) is calculated as:\n",
        "\n",
        "$$\n",
        "\\text{Reward} = (\\text{buy_amount} \\times \\text{price_buy}) - (\\text{sell_amount} \\times \\text{price_sell})\n",
        "$$\n"
      ]
    },
    {
      "cell_type": "code",
      "execution_count": null,
      "metadata": {
        "id": "MU0w1EBWtED2"
      },
      "outputs": [],
      "source": [
        "# HourlyPricingISO\n",
        "# Here we define hourly rates that vary slightly by hour using a sine function for illustrative purposes.\n",
        "hourly_rates = {hour: 50.0 + 10*np.sin(np.pi * hour/24) for hour in range(24)}\n",
        "\n",
        "hp_iso = HourlyPricingISO(hourly_rates=hourly_rates)\n",
        "\n",
        "times = np.linspace(0,1,100)  # Times as fractions of the day (0 = 0:00, 1 = 24:00)\n",
        "\n",
        "hourly_rewards = []\n",
        "hourly_prices = []\n",
        "for t in times:\n",
        "    pricing_func = hp_iso.get_pricing_function({'time': t})\n",
        "    # To extract the current hour:\n",
        "    current_hour = int(t*24) % 24\n",
        "    price = hourly_rates.get(current_hour, 50.0)\n",
        "    # Use the CostReward to compute reward\n",
        "    info = {\n",
        "        'pricing_function': pricing_func\n",
        "    }\n",
        "    reward = reward_calc.compute_reward(info)\n",
        "    hourly_rewards.append(reward)\n",
        "    hourly_prices.append(price)\n",
        "\n",
        "hourly_prices = np.array(hourly_prices)\n",
        "hours = times * 24\n",
        "\n",
        "# Plotting the prices\n",
        "plt.figure(figsize=(12,6))\n",
        "plt.plot(hours, hourly_prices[:], label=' Price', color='blue')\n",
        "\n",
        "plt.title('HourlyPricingISO Prices Over Time')\n",
        "plt.xlabel('Hour of Day')\n",
        "plt.ylabel('Price ($/MWh)')\n",
        "plt.legend()\n",
        "plt.grid(True)\n",
        "plt.show()\n",
        "\n"
      ]
    },
    {
      "cell_type": "markdown",
      "metadata": {
        "id": "4RoFgxYf3bqA"
      },
      "source": [
        "## RandomPricingISO Plot\n",
        "\n",
        "For the `RandomPricingISO`, the prices are random each time get_pricing_function is called. We'll just sample multiple pricing functions and record the resulting rewards distribution for a fixed buy/sell scenario."
      ]
    },
    {
      "cell_type": "code",
      "execution_count": null,
      "metadata": {
        "id": "URiFKAMAtFKA"
      },
      "outputs": [],
      "source": [
        "rp_iso = RandomPricingISO(min_price=40.0, max_price=60.0)\n",
        "\n",
        "num_samples = 1000\n",
        "buy_amount = 10\n",
        "\n",
        "random_rewards = []\n",
        "random_buy_prices = []\n",
        "random_sell_prices = []\n",
        "\n",
        "for _ in range(num_samples):\n",
        "    pricing_func = rp_iso.get_pricing_function({})\n",
        "    # We don't directly know the buy/sell price without re-generating them,\n",
        "    # but we can assume it's stable for that call. Let's just call the function with 1 unit to guess prices.\n",
        "    # Actually, to extract prices, let's trick the pricing function:\n",
        "    # If we define a small system of equations:\n",
        "    # reward = buy*price_buy - sell*price_sell\n",
        "    # If we call pricing(1,0) = price_buy\n",
        "    # pricing(0,1) = -price_sell\n",
        "    price_buy = pricing_func(1)\n",
        "\n",
        "\n",
        "    # Use the CostReward to compute reward\n",
        "    info = {\n",
        "        'pricing_function': pricing_func\n",
        "    }\n",
        "    reward = reward_calc.compute_reward(info)\n",
        "    random_rewards.append(reward)\n",
        "    random_buy_prices.append(price_buy)\n",
        "\n",
        "\n",
        "plt.figure(figsize=(12,6))\n",
        "sns.histplot(random_buy_prices, kde=True, color='blue', label='Prices')\n",
        "\n",
        "plt.title('RandomPricingISO Price Distribution')\n",
        "plt.xlabel('Price ($/MWh)')\n",
        "plt.ylabel('Frequency')\n",
        "plt.legend()\n",
        "plt.show()\n",
        "\n"
      ]
    },
    {
      "cell_type": "markdown",
      "metadata": {
        "id": "OTbaCak13klG"
      },
      "source": [
        "### QuadraticPricingISO\n",
        "\n",
        "The `QuadraticPricingISO` computes the buy price using a quadratic function of demand:\n",
        "\n",
        "$$\n",
        "\\text{price_buy}(d) = a \\cdot d^2 + b \\cdot d + c\n",
        "$$\n",
        "\n",
        "The sell price is a fixed fraction (e.g., 85%) of the buy price.\n",
        "\n",
        "The reward calculation follows the same form as before:\n",
        "\n",
        "$$\n",
        "\\text{Reward} = (\\text{buy_amount} \\times \\text{price_buy}) - (\\text{sell_amount} \\times \\text{price_sell})\n",
        "$$\n"
      ]
    },
    {
      "cell_type": "code",
      "execution_count": null,
      "metadata": {
        "id": "4c2a7jKGtUCq"
      },
      "outputs": [],
      "source": [
        "demands = np.linspace(0,3,100)\n",
        "param_sets = [\n",
        "    (1.0, 0.0, 50.0),\n",
        "    (0.5, 0.0, 50.0),\n",
        "    (1.0, 2.0, 50.0),\n",
        "    (1.0, 0.0, 60.0)\n",
        "]\n",
        "\n",
        "plt.figure(figsize=(12,6))\n",
        "for (a, b, c) in param_sets:\n",
        "    qp_iso = QuadraticPricingISO(a=a, b=b, c=c)\n",
        "    q_prices_buy = []\n",
        "    for d in demands:\n",
        "        pricing_func = qp_iso.get_pricing_function({'demand': d})\n",
        "        # Compute price_buy to plot (not directly needed for reward since we have pricing_func)\n",
        "        price_buy = a*(d**2) + b*d + c\n",
        "        q_prices_buy.append(price_buy)\n",
        "    plt.plot(demands, q_prices_buy, label=f'a={a}, b={b}, c={c}')\n",
        "\n",
        "plt.title('QuadraticPricingISO - Price under Different (a,b,c)')\n",
        "plt.xlabel('Demand')\n",
        "plt.ylabel('Price ($/MWh)')\n",
        "plt.legend()\n",
        "plt.grid(True)\n",
        "plt.show()\n",
        "\n"
      ]
    },
    {
      "cell_type": "markdown",
      "metadata": {
        "id": "ghMle2kr4KYf"
      },
      "source": [
        "## TimeOfUsePricingISO Plot\n",
        "\n",
        "- The `TimeOfUsePricingISO` defines certain hours as peak and others as off-peak, with corresponding prices. Hours not in either category use a default price (average of peak and off-peak).\n",
        "- We will show multiple instances of `TimeOfUsePricingISO` with different parameters to illustrate how these choices affect pricing."
      ]
    },
    {
      "cell_type": "code",
      "execution_count": 1,
      "metadata": {
        "id": "PeGDVIZ6tczX"
      },
      "outputs": [
        {
          "ename": "NameError",
          "evalue": "name 'np' is not defined",
          "output_type": "error",
          "traceback": [
            "\u001b[0;31m---------------------------------------------------------------------------\u001b[0m",
            "\u001b[0;31mNameError\u001b[0m                                 Traceback (most recent call last)",
            "Cell \u001b[0;32mIn[1], line 1\u001b[0m\n\u001b[0;32m----> 1\u001b[0m times \u001b[38;5;241m=\u001b[39m \u001b[43mnp\u001b[49m\u001b[38;5;241m.\u001b[39mlinspace(\u001b[38;5;241m0\u001b[39m,\u001b[38;5;241m1\u001b[39m,\u001b[38;5;241m100\u001b[39m)\n\u001b[1;32m      2\u001b[0m hours \u001b[38;5;241m=\u001b[39m times\u001b[38;5;241m*\u001b[39m\u001b[38;5;241m24\u001b[39m\n\u001b[1;32m      3\u001b[0m buy_amount \u001b[38;5;241m=\u001b[39m \u001b[38;5;241m10\u001b[39m\n",
            "\u001b[0;31mNameError\u001b[0m: name 'np' is not defined"
          ]
        }
      ],
      "source": [
        "times = np.linspace(0,1,100)\n",
        "hours = times*24\n",
        "buy_amount = 10\n",
        "\n",
        "\n",
        "# Define different TOU setups to compare\n",
        "tou_setups = [\n",
        "    {\n",
        "        'peak_hours': [17,18,19],\n",
        "        'off_peak_hours': [0,1,2,3,4,5],\n",
        "        'peak_price': 60.0,\n",
        "        'off_peak_price': 30.0,\n",
        "        'label': 'Setup 1 (peak: 17-19, off-peak: 0-5)'\n",
        "    },\n",
        "    {\n",
        "        'peak_hours': [16,17,18],\n",
        "        'off_peak_hours': [22,23,0,1],\n",
        "        'peak_price': 70.0,\n",
        "        'off_peak_price': 20.0,\n",
        "        'label': 'Setup 2 (peak:16-18, off-peak:22-1)'\n",
        "    }\n",
        "]\n",
        "\n",
        "plt.figure(figsize=(12,6))\n",
        "for setup in tou_setups:\n",
        "    tou_iso = TimeOfUsePricingISO(\n",
        "        peak_hours=setup['peak_hours'],\n",
        "        off_peak_hours=setup['off_peak_hours'],\n",
        "        peak_price=setup['peak_price'],\n",
        "        off_peak_price=setup['off_peak_price']\n",
        "    )\n",
        "    tou_prices_buy = []\n",
        "    for t in times:\n",
        "        pricing_func = tou_iso.get_pricing_function({'time': t})\n",
        "        # Determine buy price for plotting (as done before)\n",
        "        current_hour = int(t*24)%24\n",
        "        if current_hour in setup['peak_hours']:\n",
        "            price_buy = setup['peak_price']\n",
        "        elif current_hour in setup['off_peak_hours']:\n",
        "            price_buy = setup['off_peak_price']\n",
        "        else:\n",
        "            price_buy = (setup['peak_price'] + setup['off_peak_price'])/2\n",
        "        tou_prices_buy.append(price_buy)\n",
        "\n",
        "    plt.plot(hours, tou_prices_buy, label=setup['label'])\n",
        "\n",
        "plt.title('TimeOfUsePricingISO - Price under Different Setups')\n",
        "plt.xlabel('Hour of Day')\n",
        "plt.ylabel('Price ($/MWh)')\n",
        "plt.legend()\n",
        "plt.grid(True)\n",
        "plt.show()"
      ]
    },
    {
      "cell_type": "markdown",
      "metadata": {
        "id": "wdEirBXK4eYl"
      },
      "source": [
        "### DynamicPricingISO\n",
        "\n",
        "The `DynamicPricingISO` adjusts prices based on both demand and supply, using an elasticity factor.\n",
        "\n",
        "The price is computed as:\n",
        "\n",
        "$$\n",
        "\\text{price_buy} = \\text{base_price} \\times \\left[ 1 + \\text{elasticity} \\times (\\text{demand} - \\text{supply}) \\right]\n",
        "$$\n",
        "\n",
        "The sell price is a fraction of the buy price.\n",
        "\n",
        "By creating a 2D grid of `(demand, supply)` values and computing the resulting reward, we can visualize this relationship as a heatmap. This tool allows us to see how changes in these two factors affect the system's output (reward).\n",
        "\n",
        "A heatmap is useful because it provides a quick overview of the reward landscape for different states, showing where high rewards or low rewards occur as we vary both demand and supply simultaneously.\n"
      ]
    },
    {
      "cell_type": "code",
      "execution_count": null,
      "metadata": {
        "id": "LW9WvdZhtgc2"
      },
      "outputs": [],
      "source": [
        "dp_iso = DynamicPricingISO(base_price=50.0, elasticity=0.5)\n",
        "\n",
        "demands = np.linspace(0,2,50)\n",
        "supplies = np.linspace(0,2,50)\n",
        "\n",
        "buy_amount = 1\n",
        "\n",
        "\n",
        "rewards_matrix = np.zeros((len(demands), len(supplies)))\n",
        "\n",
        "for i, d in enumerate(demands):\n",
        "    for j, s in enumerate(supplies):\n",
        "        pricing_func = dp_iso.get_pricing_function({'demand': d, 'supply': s})\n",
        "        info = {\n",
        "            'pricing_function': pricing_func,\n",
        "            'net_exchange': buy_amount\n",
        "        }\n",
        "        reward = reward_calc.compute_reward(info)\n",
        "        rewards_matrix[i,j] = reward\n",
        "\n",
        "plt.figure(figsize=(10,8))\n",
        "\n",
        "ax = sns.heatmap(\n",
        "    rewards_matrix,\n",
        "    cmap='viridis',\n",
        "    cbar_kws={\"shrink\": 0.8}\n",
        ")\n",
        "\n",
        "plt.title('DynamicPricingISO Reward Heatmap (Demand vs. Supply)')\n",
        "plt.xlabel('Supply')\n",
        "plt.ylabel('Demand')\n",
        "\n",
        "\n",
        "num_ticks = 5\n",
        "\n",
        "# Indices at which to place ticks\n",
        "x_ticks = np.linspace(0, len(supplies)-1, num_ticks).astype(int)\n",
        "y_ticks = np.linspace(0, len(demands)-1, num_ticks).astype(int)\n",
        "\n",
        "# Corresponding values at these indices\n",
        "x_tick_labels = [f\"{supplies[i]:.1f}\" for i in x_ticks]\n",
        "y_tick_labels = [f\"{demands[i]:.1f}\" for i in y_ticks]\n",
        "\n",
        "# Set the ticks\n",
        "plt.xticks(x_ticks + 0.5, x_tick_labels, rotation=0)  # +0.5 to center labels between cells\n",
        "plt.yticks(y_ticks + 0.5, y_tick_labels, rotation=0)\n",
        "\n",
        "plt.show()\n"
      ]
    },
    {
      "cell_type": "code",
      "execution_count": null,
      "metadata": {
        "id": "q0utoOuJlAJv"
      },
      "outputs": [],
      "source": [
        "import os\n",
        "import pandas as pd\n",
        "\n",
        "from stable_baselines3 import TD3\n",
        "from stable_baselines3.common.monitor import Monitor\n",
        "from stable_baselines3.common.callbacks import BaseCallback\n",
        "from stable_baselines3.common.evaluation import evaluate_policy\n",
        "import energy_net.env\n",
        "\n",
        "# Make plots inline and set a nice style\n",
        "%matplotlib inline\n",
        "sns.set_theme(style=\"whitegrid\")"
      ]
    },
    {
      "cell_type": "markdown",
      "metadata": {
        "id": "Tr4yM_YfxnaF"
      },
      "source": [
        "# Training"
      ]
    },
    {
      "cell_type": "code",
      "execution_count": null,
      "metadata": {
        "id": "BWJPTQAR6Mhb"
      },
      "outputs": [],
      "source": [
        "class RewardCallback(BaseCallback):\n",
        "        \"\"\"\n",
        "        Custom callback for recording episode rewards during training.\n",
        "        \"\"\"\n",
        "        def __init__(self, verbose=0):\n",
        "            super(RewardCallback, self).__init__(verbose)\n",
        "            self.rewards = []\n",
        "\n",
        "        def _on_step(self) -> bool:\n",
        "            # Check if an episode has finished\n",
        "            for info in self.locals.get('infos', []):\n",
        "                if 'episode' in info.keys():\n",
        "                    self.rewards.append(info['episode']['r'])\n",
        "            return True\n",
        "\n",
        "reward_callback = RewardCallback()"
      ]
    },
    {
      "cell_type": "code",
      "execution_count": null,
      "metadata": {
        "id": "tKW_KS7wEHpL"
      },
      "outputs": [],
      "source": [
        "# Paths\n",
        "env_id = 'PCSUnitEnv-v0'\n",
        "env_config_path = 'configs/environment_config.yaml'\n",
        "iso_config_path = 'configs/iso_config.yaml'\n",
        "pcs_unit_config_path = 'configs/pcs_unit_config.yaml'\n",
        "\n",
        "log_dir = 'logs/TD3_energy_net_env'\n",
        "model_path = 'models/TD3_energy_net_env/TD3_energy_net_env'\n",
        "os.makedirs(log_dir, exist_ok=True)\n",
        "os.makedirs(os.path.dirname(model_path), exist_ok=True)\n",
        "\n",
        "########################################\n",
        "# Training\n",
        "########################################\n",
        "\n",
        "# Create training environment\n",
        "train_env = gym.make(\n",
        "    env_id,\n",
        "    disable_env_checker=True,\n",
        "    env_config_path=env_config_path,\n",
        "    iso_config_path=iso_config_path,\n",
        "    pcs_unit_config_path=pcs_unit_config_path,\n",
        "    log_file=os.path.join(log_dir, 'train_environment.log')\n",
        ")\n",
        "train_env.reset(seed=42)\n",
        "train_env.action_space.seed(42)\n",
        "train_env.observation_space.seed(42)\n",
        "\n",
        "# Instantiate TD3 model\n",
        "model = TD3(\n",
        "    'MlpPolicy',\n",
        "    train_env,\n",
        "    verbose=1,\n",
        "    tensorboard_log=log_dir,\n",
        "    seed=42\n",
        ")\n",
        "\n",
        "total_timesteps = 30_000  # Adjust as needed\n",
        "print(\"Starting training...\")\n",
        "model.learn(total_timesteps=total_timesteps, callback=reward_callback, progress_bar=True)\n",
        "print(\"Training completed.\")\n",
        "\n",
        "# Save the trained model\n",
        "model.save(model_path)\n",
        "print(f\"Model saved at {model_path}.zip\")\n",
        "\n",
        "train_env.close()"
      ]
    },
    {
      "cell_type": "code",
      "execution_count": null,
      "metadata": {
        "id": "P9wB3T7W5ZQT"
      },
      "outputs": [],
      "source": [
        "model = TD3.load(model_path)\n",
        "eval_episodes = 1\n",
        "\n",
        "eval_env = gym.make(\n",
        "    env_id,\n",
        "    disable_env_checker=True,\n",
        "    env_config_path=env_config_path,\n",
        "    iso_config_path=iso_config_path,\n",
        "    pcs_unit_config_path=pcs_unit_config_path,\n",
        "    log_file=os.path.join(log_dir, 'eval_environment.log')\n",
        ")\n",
        "\n",
        "mean_reward, std_reward = evaluate_policy(\n",
        "        model,\n",
        "        eval_env,\n",
        "        n_eval_episodes=eval_episodes,\n",
        "        deterministic=True\n",
        "    )\n",
        "\n",
        "print(f\"Mean Reward: {mean_reward} +/- {std_reward}\")"
      ]
    },
    {
      "cell_type": "code",
      "execution_count": null,
      "metadata": {
        "id": "AuAJ9c-J53KT"
      },
      "outputs": [],
      "source": [
        "if reward_callback.rewards:\n",
        "        all_rewards = np.array(reward_callback.rewards)\n",
        "\n",
        "        mean_reward = np.mean(all_rewards)\n",
        "        std_reward = np.std(all_rewards) + 1e-8  # add small epsilon to avoid division by zero\n",
        "        normalized_rewards = (all_rewards - mean_reward) / std_reward\n",
        "\n",
        "        plt.figure(figsize=(12, 6))\n",
        "        plt.plot(normalized_rewards, label='Episode Normalized rewards ')\n",
        "        plt.xlabel('Episode')\n",
        "        plt.ylabel('Reward')\n",
        "        plt.title('Training Normalized rewards over Episodes')\n",
        "        plt.legend()\n",
        "        plt.grid(True)\n",
        "        plt.savefig(os.path.join(log_dir, 'training_rewards.png'))\n",
        "        plt.show()\n",
        "else:\n",
        "  print(\"No training rewards recorded.\")"
      ]
    },
    {
      "cell_type": "code",
      "execution_count": null,
      "metadata": {
        "id": "9daLJt9MDUBC"
      },
      "outputs": [],
      "source": [
        "\n",
        "obs, info = eval_env.reset()\n",
        "done = False\n",
        "truncated = False\n",
        "\n",
        "socs = []\n",
        "times = []\n",
        "prices = []\n",
        "self_productions = []\n",
        "self_consumptions = []\n",
        "\n",
        "while not (done or truncated):\n",
        "    action, _ = model.predict(obs, deterministic=True)\n",
        "    obs, reward, done, truncated, info = eval_env.step(action)\n",
        "    # Observation format: [SOC, time_fraction, self_production, self_consumption]\n",
        "    soc = obs[0]\n",
        "    time_fraction = obs[1]\n",
        "    self_production = obs[2]\n",
        "    self_consumption = obs[3]\n",
        "\n",
        "    hour_of_day = time_fraction * 24.0\n",
        "\n",
        "    # Compute price using the iso object\n",
        "    pricing_func = info.get('pricing_function')\n",
        "    buy_price = pricing_func(1)  # buy price\n",
        "\n",
        "    socs.append(soc)\n",
        "    prices.append(buy_price)\n",
        "    times.append(hour_of_day)\n",
        "    self_productions.append(self_production)\n",
        "    self_consumptions.append(self_consumption)\n",
        "\n",
        "eval_env.close()\n",
        "\n",
        "########################################\n",
        "# Limit Data to 48 hours\n",
        "########################################\n",
        "mask = np.array(times) <= 48\n",
        "times = np.array(times)[mask]\n",
        "socs = np.array(socs)[mask]\n",
        "prices = np.array(prices)[mask]\n",
        "self_productions = np.array(self_productions)[mask]\n",
        "self_consumptions = np.array(self_consumptions)[mask]\n",
        "\n",
        "########################################\n",
        "# Plotting\n",
        "########################################\n",
        "\n",
        "fig, ax1 = plt.subplots(figsize=(10,6))\n",
        "color_sp = 'tab:gray'\n",
        "color_sc = 'tab:cyan'\n",
        "\n",
        "ax1.set_xlabel('Hour of Day')\n",
        "ax1.set_ylabel('Self-Production (MWh)', color=color_sp)\n",
        "ax1.plot(times, self_productions, color=color_sp, label='Self-Production')\n",
        "ax1.tick_params(axis='y', labelcolor=color_sp)\n",
        "ax1.grid(True)\n",
        "\n",
        "ax2 = ax1.twinx()\n",
        "ax2.set_ylabel('Self-Consumption (MWh)', color=color_sc)\n",
        "ax2.plot(times, self_consumptions, color=color_sc, label='Self-Consumption')\n",
        "ax2.tick_params(axis='y', labelcolor=color_sc)\n",
        "\n",
        "fig.tight_layout()\n",
        "plt.title('Self-Production and Self-Consumption vs. Time of Day')\n",
        "plt.show()\n",
        "\n"
      ]
    },
    {
      "cell_type": "code",
      "execution_count": null,
      "metadata": {
        "id": "ZljF60-dwljg"
      },
      "outputs": [],
      "source": []
    }
  ],
  "metadata": {
    "accelerator": "GPU",
    "colab": {
      "gpuType": "T4",
      "provenance": [],
      "toc_visible": true
    },
    "kernelspec": {
      "display_name": "Python 3",
      "name": "python3"
    },
    "language_info": {
      "codemirror_mode": {
        "name": "ipython",
        "version": 3
      },
      "file_extension": ".py",
      "mimetype": "text/x-python",
      "name": "python",
      "nbconvert_exporter": "python",
      "pygments_lexer": "ipython3",
      "version": "3.9.6"
    }
  },
  "nbformat": 4,
  "nbformat_minor": 0
}
